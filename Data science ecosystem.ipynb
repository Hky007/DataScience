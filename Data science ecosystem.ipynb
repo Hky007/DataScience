{
 "cells": [
  {
   "cell_type": "markdown",
   "id": "8d6d34ab",
   "metadata": {},
   "source": [
    "# Data Science Tools and Ecosystem \n"
   ]
  },
  {
   "cell_type": "markdown",
   "id": "8fb197f1",
   "metadata": {},
   "source": [
    "### In this notebook, Data Science Tools and Ecosystem are summarized."
   ]
  },
  {
   "cell_type": "markdown",
   "id": "a59c4fce",
   "metadata": {},
   "source": [
    "**Objectives :** \n",
    "- Some of the popular languages  that data scientist use.\n",
    "- Some common libraries used by data scientists.\n",
    "- Data Science Tools\n",
    "- Examples of Evaluating Arithmetic Expressions\n",
    "- Converting Minutes to Hours"
   ]
  },
  {
   "cell_type": "markdown",
   "id": "23f7065f",
   "metadata": {},
   "source": [
    "#### Data Science Languages\n",
    "\n",
    "Some of the popular languages that Data Scientists use are:\n",
    "\n",
    "1. Python\n",
    "2. R\n",
    "3. SQL\n",
    "4. Scala\n",
    "5. JAVA\n",
    "6. Julia"
   ]
  },
  {
   "cell_type": "markdown",
   "id": "c151f86d",
   "metadata": {},
   "source": [
    "#### Data Science Libraries\n",
    "\n",
    "The following are a few of the libraries that data scientists frequently use:\n",
    "\n",
    "1. Scientific Computing Libraries:\n",
    "    - PANDAS\n",
    "    - NUMPY\n",
    "2. Visualization Librabries:\n",
    "    - MATPLOTLIB\n",
    "    - SEABORN\n",
    "3. ML And DL Libraries:\n",
    "    - SCIKIT LEARN\n",
    "    - KERAS\n",
    "4. Deep Learning Libraries:\n",
    "    - TENSORFLOW\n",
    "    - PYTORCH\n",
    "5. Scala Libraries:\n",
    "    - VEGAS\n",
    "    - BIG DL\n",
    "6. R Libraries:\n",
    "    - ggplot\n",
    "    - stringr\n",
    "    - caret\n",
    "    - dplyr"
   ]
  },
  {
   "cell_type": "markdown",
   "id": "9b58538f",
   "metadata": {},
   "source": [
    "#### Data Science Tools\n",
    "\n",
    "| Data Science Tools  |\n",
    "|---------------------|\n",
    "| 1.IBM WATSON STUDIO |\n",
    "| 2.R Studio          |\n",
    "| 3.JUPYTER Notebook  |"
   ]
  },
  {
   "cell_type": "markdown",
   "id": "237f3768",
   "metadata": {},
   "source": [
    "### Below are a few examples of evaluating arithmetic expressions in Python\n",
    "\n",
    "\n",
    "\n",
    "\n",
    "\n",
    "\n",
    "\n",
    "\n",
    "\n",
    "\n",
    "\n",
    "\n",
    "\n",
    "\n",
    "\n",
    "\n",
    "\n",
    "\n"
   ]
  },
  {
   "cell_type": "code",
   "execution_count": 1,
   "id": "8acab150",
   "metadata": {},
   "outputs": [
    {
     "data": {
      "text/plain": [
       "17"
      ]
     },
     "execution_count": 1,
     "metadata": {},
     "output_type": "execute_result"
    }
   ],
   "source": [
    "#  This a simple arithmetic expression to mutiply then add integers\n",
    "(3*4)+5"
   ]
  },
  {
   "cell_type": "code",
   "execution_count": 2,
   "id": "d569ea81",
   "metadata": {},
   "outputs": [
    {
     "data": {
      "text/plain": [
       "3.3333333333333335"
      ]
     },
     "execution_count": 2,
     "metadata": {},
     "output_type": "execute_result"
    }
   ],
   "source": [
    "# This will convert 200 minutes to hours by diving by 60\n",
    "200 / 60"
   ]
  },
  {
   "cell_type": "markdown",
   "id": "6ad648d4",
   "metadata": {},
   "source": [
    "## AUTHOR\n",
    "T HEMANTH KUMAR"
   ]
  },
  {
   "cell_type": "code",
   "execution_count": null,
   "id": "7592c8f6",
   "metadata": {},
   "outputs": [],
   "source": []
  }
 ],
 "metadata": {
  "kernelspec": {
   "display_name": "Python 3 (ipykernel)",
   "language": "python",
   "name": "python3"
  },
  "language_info": {
   "codemirror_mode": {
    "name": "ipython",
    "version": 3
   },
   "file_extension": ".py",
   "mimetype": "text/x-python",
   "name": "python",
   "nbconvert_exporter": "python",
   "pygments_lexer": "ipython3",
   "version": "3.9.12"
  }
 },
 "nbformat": 4,
 "nbformat_minor": 5
}
